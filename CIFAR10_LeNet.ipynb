{
  "nbformat": 4,
  "nbformat_minor": 0,
  "metadata": {
    "colab": {
      "name": "CIFAR10-LeNet.ipynb",
      "provenance": [],
      "include_colab_link": true
    },
    "kernelspec": {
      "name": "python3",
      "display_name": "Python 3"
    },
    "accelerator": "GPU",
    "widgets": {
      "application/vnd.jupyter.widget-state+json": {
        "23a42fb14b994efea0848b21535a2c2c": {
          "model_module": "@jupyter-widgets/controls",
          "model_name": "HBoxModel",
          "state": {
            "_view_name": "HBoxView",
            "_dom_classes": [],
            "_model_name": "HBoxModel",
            "_view_module": "@jupyter-widgets/controls",
            "_model_module_version": "1.5.0",
            "_view_count": null,
            "_view_module_version": "1.5.0",
            "box_style": "",
            "layout": "IPY_MODEL_26c19f90a0f94765979a76474726c61a",
            "_model_module": "@jupyter-widgets/controls",
            "children": [
              "IPY_MODEL_217e2d623eaa48f184edc4660aab5a8c",
              "IPY_MODEL_a34429599f8d4b0c8e896e38b2291c09"
            ]
          }
        },
        "26c19f90a0f94765979a76474726c61a": {
          "model_module": "@jupyter-widgets/base",
          "model_name": "LayoutModel",
          "state": {
            "_view_name": "LayoutView",
            "grid_template_rows": null,
            "right": null,
            "justify_content": null,
            "_view_module": "@jupyter-widgets/base",
            "overflow": null,
            "_model_module_version": "1.2.0",
            "_view_count": null,
            "flex_flow": null,
            "width": null,
            "min_width": null,
            "border": null,
            "align_items": null,
            "bottom": null,
            "_model_module": "@jupyter-widgets/base",
            "top": null,
            "grid_column": null,
            "overflow_y": null,
            "overflow_x": null,
            "grid_auto_flow": null,
            "grid_area": null,
            "grid_template_columns": null,
            "flex": null,
            "_model_name": "LayoutModel",
            "justify_items": null,
            "grid_row": null,
            "max_height": null,
            "align_content": null,
            "visibility": null,
            "align_self": null,
            "height": null,
            "min_height": null,
            "padding": null,
            "grid_auto_rows": null,
            "grid_gap": null,
            "max_width": null,
            "order": null,
            "_view_module_version": "1.2.0",
            "grid_template_areas": null,
            "object_position": null,
            "object_fit": null,
            "grid_auto_columns": null,
            "margin": null,
            "display": null,
            "left": null
          }
        },
        "217e2d623eaa48f184edc4660aab5a8c": {
          "model_module": "@jupyter-widgets/controls",
          "model_name": "IntProgressModel",
          "state": {
            "_view_name": "ProgressView",
            "style": "IPY_MODEL_6c0a481723fc490285ca04d4dae4d0ef",
            "_dom_classes": [],
            "description": "",
            "_model_name": "IntProgressModel",
            "bar_style": "info",
            "max": 1,
            "_view_module": "@jupyter-widgets/controls",
            "_model_module_version": "1.5.0",
            "value": 1,
            "_view_count": null,
            "_view_module_version": "1.5.0",
            "orientation": "horizontal",
            "min": 0,
            "description_tooltip": null,
            "_model_module": "@jupyter-widgets/controls",
            "layout": "IPY_MODEL_3496ef7f912145b083b3a012898e05de"
          }
        },
        "a34429599f8d4b0c8e896e38b2291c09": {
          "model_module": "@jupyter-widgets/controls",
          "model_name": "HTMLModel",
          "state": {
            "_view_name": "HTMLView",
            "style": "IPY_MODEL_b1cc359bf9d747aeaeacb591d412b0aa",
            "_dom_classes": [],
            "description": "",
            "_model_name": "HTMLModel",
            "placeholder": "​",
            "_view_module": "@jupyter-widgets/controls",
            "_model_module_version": "1.5.0",
            "value": "170500096it [00:30, 14990459.96it/s]",
            "_view_count": null,
            "_view_module_version": "1.5.0",
            "description_tooltip": null,
            "_model_module": "@jupyter-widgets/controls",
            "layout": "IPY_MODEL_279456d881304985b2cb10125bf62a68"
          }
        },
        "6c0a481723fc490285ca04d4dae4d0ef": {
          "model_module": "@jupyter-widgets/controls",
          "model_name": "ProgressStyleModel",
          "state": {
            "_view_name": "StyleView",
            "_model_name": "ProgressStyleModel",
            "description_width": "",
            "_view_module": "@jupyter-widgets/base",
            "_model_module_version": "1.5.0",
            "_view_count": null,
            "_view_module_version": "1.2.0",
            "bar_color": null,
            "_model_module": "@jupyter-widgets/controls"
          }
        },
        "3496ef7f912145b083b3a012898e05de": {
          "model_module": "@jupyter-widgets/base",
          "model_name": "LayoutModel",
          "state": {
            "_view_name": "LayoutView",
            "grid_template_rows": null,
            "right": null,
            "justify_content": null,
            "_view_module": "@jupyter-widgets/base",
            "overflow": null,
            "_model_module_version": "1.2.0",
            "_view_count": null,
            "flex_flow": null,
            "width": null,
            "min_width": null,
            "border": null,
            "align_items": null,
            "bottom": null,
            "_model_module": "@jupyter-widgets/base",
            "top": null,
            "grid_column": null,
            "overflow_y": null,
            "overflow_x": null,
            "grid_auto_flow": null,
            "grid_area": null,
            "grid_template_columns": null,
            "flex": null,
            "_model_name": "LayoutModel",
            "justify_items": null,
            "grid_row": null,
            "max_height": null,
            "align_content": null,
            "visibility": null,
            "align_self": null,
            "height": null,
            "min_height": null,
            "padding": null,
            "grid_auto_rows": null,
            "grid_gap": null,
            "max_width": null,
            "order": null,
            "_view_module_version": "1.2.0",
            "grid_template_areas": null,
            "object_position": null,
            "object_fit": null,
            "grid_auto_columns": null,
            "margin": null,
            "display": null,
            "left": null
          }
        },
        "b1cc359bf9d747aeaeacb591d412b0aa": {
          "model_module": "@jupyter-widgets/controls",
          "model_name": "DescriptionStyleModel",
          "state": {
            "_view_name": "StyleView",
            "_model_name": "DescriptionStyleModel",
            "description_width": "",
            "_view_module": "@jupyter-widgets/base",
            "_model_module_version": "1.5.0",
            "_view_count": null,
            "_view_module_version": "1.2.0",
            "_model_module": "@jupyter-widgets/controls"
          }
        },
        "279456d881304985b2cb10125bf62a68": {
          "model_module": "@jupyter-widgets/base",
          "model_name": "LayoutModel",
          "state": {
            "_view_name": "LayoutView",
            "grid_template_rows": null,
            "right": null,
            "justify_content": null,
            "_view_module": "@jupyter-widgets/base",
            "overflow": null,
            "_model_module_version": "1.2.0",
            "_view_count": null,
            "flex_flow": null,
            "width": null,
            "min_width": null,
            "border": null,
            "align_items": null,
            "bottom": null,
            "_model_module": "@jupyter-widgets/base",
            "top": null,
            "grid_column": null,
            "overflow_y": null,
            "overflow_x": null,
            "grid_auto_flow": null,
            "grid_area": null,
            "grid_template_columns": null,
            "flex": null,
            "_model_name": "LayoutModel",
            "justify_items": null,
            "grid_row": null,
            "max_height": null,
            "align_content": null,
            "visibility": null,
            "align_self": null,
            "height": null,
            "min_height": null,
            "padding": null,
            "grid_auto_rows": null,
            "grid_gap": null,
            "max_width": null,
            "order": null,
            "_view_module_version": "1.2.0",
            "grid_template_areas": null,
            "object_position": null,
            "object_fit": null,
            "grid_auto_columns": null,
            "margin": null,
            "display": null,
            "left": null
          }
        }
      }
    }
  },
  "cells": [
    {
      "cell_type": "markdown",
      "metadata": {
        "id": "view-in-github",
        "colab_type": "text"
      },
      "source": [
        "<a href=\"https://colab.research.google.com/github/lady-ada/CIFAR10/blob/master/CIFAR10_LeNet.ipynb\" target=\"_parent\"><img src=\"https://colab.research.google.com/assets/colab-badge.svg\" alt=\"Open In Colab\"/></a>"
      ]
    },
    {
      "cell_type": "code",
      "metadata": {
        "id": "FusXFtcgE3RL",
        "colab_type": "code",
        "colab": {}
      },
      "source": [
        "import torch\n",
        "import torch.nn as nn\n",
        "import torch.optim as optim\n",
        "import matplotlib.pyplot as plt\n",
        "import numpy as np\n",
        "import torchvision\n",
        "import torchvision.transforms as transforms"
      ],
      "execution_count": 0,
      "outputs": []
    },
    {
      "cell_type": "code",
      "metadata": {
        "id": "Jv-DK0vhFhF1",
        "colab_type": "code",
        "outputId": "98cdfbaf-272b-4964-8f2e-deef9fcb447c",
        "colab": {
          "base_uri": "https://localhost:8080/",
          "height": 99,
          "referenced_widgets": [
            "23a42fb14b994efea0848b21535a2c2c",
            "26c19f90a0f94765979a76474726c61a",
            "217e2d623eaa48f184edc4660aab5a8c",
            "a34429599f8d4b0c8e896e38b2291c09",
            "6c0a481723fc490285ca04d4dae4d0ef",
            "3496ef7f912145b083b3a012898e05de",
            "b1cc359bf9d747aeaeacb591d412b0aa",
            "279456d881304985b2cb10125bf62a68"
          ]
        }
      },
      "source": [
        "trainset = torchvision.datasets.CIFAR10(root='./data', train=True, download=True, transform=transforms.ToTensor())\n",
        "trainloader = torch.utils.data.DataLoader(trainset, batch_size=128, shuffle=True)\n",
        "testset = torchvision.datasets.CIFAR10(root='./data', train=False, download=True, transform=transforms.ToTensor())\n",
        "testloader = torch.utils.data.DataLoader(testset, batch_size=128, shuffle=False)"
      ],
      "execution_count": 2,
      "outputs": [
        {
          "output_type": "stream",
          "text": [
            "Downloading https://www.cs.toronto.edu/~kriz/cifar-10-python.tar.gz to ./data/cifar-10-python.tar.gz\n"
          ],
          "name": "stdout"
        },
        {
          "output_type": "display_data",
          "data": {
            "application/vnd.jupyter.widget-view+json": {
              "model_id": "23a42fb14b994efea0848b21535a2c2c",
              "version_minor": 0,
              "version_major": 2
            },
            "text/plain": [
              "HBox(children=(IntProgress(value=1, bar_style='info', max=1), HTML(value='')))"
            ]
          },
          "metadata": {
            "tags": []
          }
        },
        {
          "output_type": "stream",
          "text": [
            "Extracting ./data/cifar-10-python.tar.gz to ./data\n",
            "Files already downloaded and verified\n"
          ],
          "name": "stdout"
        }
      ]
    },
    {
      "cell_type": "code",
      "metadata": {
        "id": "Pe7KvUibbr8H",
        "colab_type": "code",
        "outputId": "a53f0756-ce56-4968-cae2-84295319cb78",
        "colab": {
          "base_uri": "https://localhost:8080/",
          "height": 100
        }
      },
      "source": [
        "dataiter = iter(trainloader)\n",
        "images, labels=dataiter.next()\n",
        "\n",
        "print(len(dataiter))\n",
        "print(images.shape)\n",
        "print(labels.shape)\n",
        "print(images[0].shape)\n",
        "print(labels[0].item())"
      ],
      "execution_count": 3,
      "outputs": [
        {
          "output_type": "stream",
          "text": [
            "391\n",
            "torch.Size([128, 3, 32, 32])\n",
            "torch.Size([128])\n",
            "torch.Size([3, 32, 32])\n",
            "8\n"
          ],
          "name": "stdout"
        }
      ]
    },
    {
      "cell_type": "code",
      "metadata": {
        "id": "tjT-1-Uba1n-",
        "colab_type": "code",
        "colab": {}
      },
      "source": [
        "classes = ('plane', 'car', 'bird', 'cat', 'deer', 'dog', 'frog', 'horse', 'ship', 'truck')"
      ],
      "execution_count": 0,
      "outputs": []
    },
    {
      "cell_type": "code",
      "metadata": {
        "id": "AnumhUtwF-ka",
        "colab_type": "code",
        "colab": {}
      },
      "source": [
        "class LeNet(nn.Module):\n",
        "\n",
        "  def __init__(self):\n",
        "    super(LeNet, self).__init__()\n",
        "    self.cnn = nn.Sequential(\n",
        "        nn.Conv2d(3, 6, 5),  # (N,1,32,32) ->  (N,6,28,28)\n",
        "        nn.ReLU(),\n",
        "        nn.AvgPool2d(2, stride=2), # (N,6,28,28) -> (N,6,14,14)\n",
        "        nn.ReLU(),\n",
        "        nn.Conv2d(6, 16, 5), # (N,6,14,14) -> (N,16,10,10)\n",
        "        nn.ReLU(),\n",
        "        nn.AvgPool2d(2, stride=2) # (N,16,10,10) -> (N,16,5,5)\n",
        "    )\n",
        "    self.fc = nn.Sequential(\n",
        "        nn.Linear(400, 120),\n",
        "        nn.ReLU(),\n",
        "        nn.Linear(120, 84),\n",
        "        nn.ReLU(),\n",
        "        nn.Linear(84, 10)\n",
        "    )\n",
        "\n",
        "  def forward(self, x):\n",
        "    x = self.cnn(x)\n",
        "    x = x.view(x.size(0), -1)\n",
        "    x = self.fc(x)\n",
        "    return x"
      ],
      "execution_count": 0,
      "outputs": []
    },
    {
      "cell_type": "code",
      "metadata": {
        "id": "G3-MmoCsQy2O",
        "colab_type": "code",
        "outputId": "b6e8e898-8f4e-4fe2-b74b-e8ff2084f0ed",
        "colab": {
          "base_uri": "https://localhost:8080/",
          "height": 33
        }
      },
      "source": [
        "device = torch.device(\"cuda:0\" if torch.cuda.is_available() else \"cpu\")\n",
        "print(device)"
      ],
      "execution_count": 6,
      "outputs": [
        {
          "output_type": "stream",
          "text": [
            "cuda:0\n"
          ],
          "name": "stdout"
        }
      ]
    },
    {
      "cell_type": "code",
      "metadata": {
        "id": "3YL-kHM7QJPb",
        "colab_type": "code",
        "colab": {}
      },
      "source": [
        "\n",
        "def fit(trainloader, testloader, model, opt, loss_fn, epochs=16):\n",
        "\n",
        " \n",
        "  for epoch in range(epochs):\n",
        "    for i,data in enumerate(trainloader, 0):\n",
        "\n",
        "      X, Y = data\n",
        "      X, Y = X.to(device), Y.to(device)\n",
        "      opt.zero_grad()\n",
        "\n",
        "      Y_pred = model(X)\n",
        "      loss = loss_fn(Y_pred, Y)\n",
        "      loss.backward()\n",
        "      opt.step()\n",
        "\n",
        "    \n",
        "    print('Epoch: %d/%d, Test acc: %0.2f, Train acc: %0.2f' % (epoch, 16, evaluation(testloader), evaluation(trainloader)))\n",
        " \n",
        "  \n",
        "\n"
      ],
      "execution_count": 0,
      "outputs": []
    },
    {
      "cell_type": "code",
      "metadata": {
        "id": "C8Z_NuHEv65V",
        "colab_type": "code",
        "colab": {}
      },
      "source": [
        "def evaluation(dataloader):\n",
        "    total, correct = 0, 0\n",
        "    for data in dataloader:\n",
        "        inputs, labels = data\n",
        "        inputs, labels = inputs.to(device), labels.to(device)\n",
        "        outputs = net(inputs)\n",
        "        _, pred = torch.max(outputs.data, 1)\n",
        "        total += labels.size(0)\n",
        "        correct += (pred == labels).sum().item()\n",
        "    return 100 * correct / total"
      ],
      "execution_count": 0,
      "outputs": []
    },
    {
      "cell_type": "code",
      "metadata": {
        "id": "uWJTqjZHnqEw",
        "colab_type": "code",
        "outputId": "ccdbc321-32b3-4543-fcb7-74595640b940",
        "colab": {
          "base_uri": "https://localhost:8080/",
          "height": 318
        }
      },
      "source": [
        "%%time\n",
        "net = LeNet().to(device)\n",
        "loss_fn = nn.CrossEntropyLoss()\n",
        "opt = optim.Adam(net.parameters(), weight_decay=1e-5)\n",
        "fit(trainloader ,testloader, net, opt, loss_fn)"
      ],
      "execution_count": 14,
      "outputs": [
        {
          "output_type": "stream",
          "text": [
            "Epoch: 0/16, Test acc: 36.07, Train acc: 35.35\n",
            "Epoch: 1/16, Test acc: 42.87, Train acc: 42.68\n",
            "Epoch: 2/16, Test acc: 47.07, Train acc: 47.86\n",
            "Epoch: 3/16, Test acc: 49.17, Train acc: 50.04\n",
            "Epoch: 4/16, Test acc: 51.48, Train acc: 52.57\n",
            "Epoch: 5/16, Test acc: 51.81, Train acc: 53.16\n",
            "Epoch: 6/16, Test acc: 53.63, Train acc: 55.40\n",
            "Epoch: 7/16, Test acc: 54.21, Train acc: 56.27\n",
            "Epoch: 8/16, Test acc: 54.57, Train acc: 56.99\n",
            "Epoch: 9/16, Test acc: 55.12, Train acc: 57.58\n",
            "Epoch: 10/16, Test acc: 56.38, Train acc: 59.41\n",
            "Epoch: 11/16, Test acc: 56.69, Train acc: 59.92\n",
            "Epoch: 12/16, Test acc: 57.53, Train acc: 60.92\n",
            "Epoch: 13/16, Test acc: 58.54, Train acc: 62.15\n",
            "Epoch: 14/16, Test acc: 57.12, Train acc: 61.66\n",
            "Epoch: 15/16, Test acc: 59.48, Train acc: 64.07\n",
            "CPU times: user 3min 3s, sys: 1.07 s, total: 3min 5s\n",
            "Wall time: 3min 5s\n"
          ],
          "name": "stdout"
        }
      ]
    }
  ]
}